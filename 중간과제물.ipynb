{
  "cells": [
    {
      "cell_type": "markdown",
      "metadata": {},
      "source": [
        "<a href=\"https://colab.research.google.com/github/jaehwachung/Python-Programming/blob/main/9%EA%B0%95_%EC%8B%A4%EC%8A%B5(%EC%9B%90%EB%B3%B8).ipynb\" target=\"_parent\"><img src=\"https://colab.research.google.com/assets/colab-badge.svg\" alt=\"Open In Colab\"/></a>"
      ]
    },
    {
      "cell_type": "markdown",
      "metadata": {
        "id": "CAj_VKRq4Mhy"
      },
      "source": [
        "# 중간 과제물"
      ]
    },
    {
      "cell_type": "code",
      "execution_count": 3,
      "metadata": {},
      "outputs": [
        {
          "name": "stdout",
          "output_type": "stream",
          "text": [
            "홀수의 갯수 : 5 짝수의 갯수 : 5\n"
          ]
        }
      ],
      "source": [
        "# 작성한 알고리즘을 기반으로 python 코드를 작성 - 30점\n",
        "\n",
        "lst = []\n",
        "for i in range(10):\n",
        "    num = int(input(str(i) + '번째 정수를 입력하세요: '))\n",
        "    lst.append(num)\n",
        "\n",
        "def printOddEven(numArr):\n",
        "  odd = 0\n",
        "  even = 0\n",
        "  for num in numArr:\n",
        "    if num % 2 == 0:\n",
        "      even += 1\n",
        "    elif num % 2 == 1:\n",
        "      odd += 1\n",
        "    else:\n",
        "      print('에러')\n",
        "  print('홀수의 갯수 : ' + str(odd) + ' 짝수의 갯수 : ' + str(even))\n",
        "\n",
        "printOddEven(lst)\n"
      ]
    },
    {
      "cell_type": "code",
      "execution_count": 7,
      "metadata": {},
      "outputs": [
        {
          "name": "stdout",
          "output_type": "stream",
          "text": [
            "1\n",
            "11\n",
            "2\n",
            "3\n",
            "4\n",
            "5\n",
            "6\n",
            "7\n",
            "8\n",
            "9\n",
            "10\n",
            "Odd count: 5\n",
            "Even count: 5\n"
          ]
        }
      ],
      "source": [
        "# ChatGPT\n",
        "\n",
        "def printOddEven(numbers):\n",
        "    odd = 0\n",
        "    even = 0\n",
        "\n",
        "    if numbers[0] % 2 == 0:\n",
        "        even += 1\n",
        "    else:\n",
        "        odd += 1\n",
        "\n",
        "    print(numbers[0])\n",
        "    print(numbers[10])\n",
        "\n",
        "    for num in numbers[1:10]:\n",
        "      print(num)\n",
        "      if num % 2 == 0:\n",
        "        even += 1\n",
        "      else:\n",
        "        odd += 1\n",
        "\n",
        "    print(\"Odd count:\", odd)\n",
        "    print(\"Even count:\", even)\n",
        "\n",
        "lst = [1, 2, 3, 4, 5, 6, 7, 8, 9, 10, 11]\n",
        "printOddEven(lst)"
      ]
    }
  ],
  "metadata": {
    "colab": {
      "authorship_tag": "ABX9TyPwlgWCjsWPzGJnpqlIYeC4",
      "include_colab_link": true,
      "provenance": []
    },
    "kernelspec": {
      "display_name": "Python 3",
      "language": "python",
      "name": "python3"
    },
    "language_info": {
      "codemirror_mode": {
        "name": "ipython",
        "version": 3
      },
      "file_extension": ".py",
      "mimetype": "text/x-python",
      "name": "python",
      "nbconvert_exporter": "python",
      "pygments_lexer": "ipython3",
      "version": "3.11.2"
    },
    "vscode": {
      "interpreter": {
        "hash": "b0fa6594d8f4cbf19f97940f81e996739fb7646882a419484c72d19e05852a7e"
      }
    }
  },
  "nbformat": 4,
  "nbformat_minor": 0
}
