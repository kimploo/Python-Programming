{
  "cells": [
    {
      "attachments": {},
      "cell_type": "markdown",
      "metadata": {
        "colab_type": "text",
        "id": "view-in-github"
      },
      "source": [
        "<a href=\"https://colab.research.google.com/github/kimploo/Python-Programming/blob/main/5%EA%B0%95_%EC%8B%A4%EC%8A%B5(%EC%9B%90%EB%B3%B8).ipynb\" target=\"_parent\"><img src=\"https://colab.research.google.com/assets/colab-badge.svg\" alt=\"Open In Colab\"/></a>"
      ]
    },
    {
      "attachments": {},
      "cell_type": "markdown",
      "metadata": {},
      "source": [
        "# 5강 1절 제어 구조의 이해"
      ]
    },
    {
      "attachments": {},
      "cell_type": "markdown",
      "metadata": {},
      "source": [
        "## 구조적 프로그래밍 패러다임\n",
        "- 다익스트라가 제안\n",
        "  - `goto`문의 한계를 극복하기 위해서\n",
        "- 절차적 프로그래밍 패러다임의 하위개념\n",
        "- `goto` 문을 사용하지 않고 프로그램을 3가지 제어 구조만으로 구성하는 프로그래밍 패러다임\n",
        "  - 순차(sequence) 구조\n",
        "    - 영어 정의 필요\n",
        "    - 코드를 위에서 아래로 읽어가는 가장 직관적인 구조\n",
        "    - 일단 첫 단계를 시작하면 마지막 코드까지 전부 실행된다.\n",
        "  - 선택(selection) 구조\n",
        "    - 특정 영역 내 명령문 실행 여부를 선택할 수 있다. (조건문)\n",
        "  - 반복(iteration) 구조\n",
        "    - 특정 영역의 명령문을 여러 번 재실행하는 구조, 반복 횟수를 조건에 따라 결정\n",
        "- 프로그램 실행 흐름이 간결하고 작은 규모로 조직화 하기 쉬움"
      ]
    },
    {
      "cell_type": "markdown",
      "metadata": {
        "id": "QaMMtoihlN9D"
      },
      "source": [
        "# 5강 2절"
      ]
    },
    {
      "cell_type": "markdown",
      "metadata": {
        "id": "zsVGhzcxlSh2"
      },
      "source": [
        "삼각형 출력하기"
      ]
    },
    {
      "cell_type": "code",
      "execution_count": 1,
      "metadata": {
        "id": "Uzg7FWgclGzv"
      },
      "outputs": [
        {
          "name": "stdout",
          "output_type": "stream",
          "text": [
            "   *   \n",
            "  ***  \n",
            " ***** \n",
            "*******\n"
          ]
        }
      ],
      "source": [
        "# 파이선 코드는 위에서부터 아래로 읽는다. (순차 구조)\n",
        "print(\"   *   \")\n",
        "print(\"  ***  \")\n",
        "print(\" ***** \")\n",
        "print(\"*******\")"
      ]
    },
    {
      "cell_type": "code",
      "execution_count": 1,
      "metadata": {},
      "outputs": [
        {
          "name": "stdout",
          "output_type": "stream",
          "text": [
            "100\n"
          ]
        }
      ],
      "source": [
        "# 사용자의 콘솔 입력을 전달받을 수 있는 함수 input\n",
        "# 입력 데이터를 문자 데이터 타입으로 변환\n",
        "rad = input()\n",
        "print(rad)"
      ]
    },
    {
      "cell_type": "code",
      "execution_count": 6,
      "metadata": {},
      "outputs": [
        {
          "name": "stdout",
          "output_type": "stream",
          "text": [
            "30\n"
          ]
        }
      ],
      "source": [
        "# input의 첫 번째 전달인자는 안내문\n",
        "rad = input(\"반지름의 값을 입력하세요 :\")\n",
        "print(rad)"
      ]
    },
    {
      "cell_type": "code",
      "execution_count": 7,
      "metadata": {},
      "outputs": [
        {
          "name": "stdout",
          "output_type": "stream",
          "text": [
            "23\n"
          ]
        }
      ],
      "source": [
        "# int로 전환해야 하는 경우는 int 함수 사용\n",
        "rad = int(input(\"반지름의 값을 입력하세요 :\"))\n",
        "print(rad)"
      ]
    },
    {
      "cell_type": "markdown",
      "metadata": {
        "id": "o1aoIihhlrBZ"
      },
      "source": [
        "원뿔 계산 프로그램 개선"
      ]
    },
    {
      "cell_type": "code",
      "execution_count": 3,
      "metadata": {
        "id": "jzJqpbKgluL7"
      },
      "outputs": [
        {
          "name": "stdout",
          "output_type": "stream",
          "text": [
            "12559.999999999998\n",
            "3520.286200991385\n"
          ]
        }
      ],
      "source": [
        "import math\n",
        "\n",
        "#반지름, 높이 값 할당\n",
        "rad = 20\n",
        "hei = 30\n",
        "# 모선의 높이(l) 계산\n",
        "slant_height = math.sqrt(rad ** 2 + hei ** 2)\n",
        "#부피 출력\n",
        "print(1 / 3 * 3.14 * rad ** 2 * hei)\n",
        "#겉넓이 출력\n",
        "print(3.14 * rad ** 2 + 3.14 * rad * slant_height)"
      ]
    },
    {
      "cell_type": "code",
      "execution_count": 5,
      "metadata": {},
      "outputs": [
        {
          "name": "stdout",
          "output_type": "stream",
          "text": [
            "9420.0\n"
          ]
        }
      ],
      "source": [
        "# 반지름 사용자 입력\n",
        "# 문자열 입력을 정수로 변환 -> int 함수\n",
        "# str 함수, float 함수도 비슷\n",
        "rad = int(input(\"반지름을 입력하세요:\"))\n",
        "#높이 사용자 입력\n",
        "hei = int(input(\"높이를 입력하세요:\"))\n",
        "#부피 계산\n",
        "vol = 1/3 * 3.14 * rad ** 2 * hei\n",
        "print(vol)"
      ]
    },
    {
      "cell_type": "code",
      "execution_count": null,
      "metadata": {},
      "outputs": [],
      "source": []
    },
    {
      "cell_type": "code",
      "execution_count": 9,
      "metadata": {},
      "outputs": [
        {
          "name": "stdout",
          "output_type": "stream",
          "text": [
            "부피의 값은_9420.0_입니다.\n",
            "겉넓이의 값은_3768.0_입니다.\n"
          ]
        }
      ],
      "source": [
        "# 반지름 사용자 입력\n",
        "# 문자열 입력을 정수로 변환 -> int 함수\n",
        "# str 함수, float 함수도 비슷\n",
        "rad = int(input(\"반지름을 입력하세요:\"))\n",
        "\n",
        "#높이 사용자 입력\n",
        "hei = int(input(\"높이를 입력하세요:\"))\n",
        "\n",
        "#부피 계산\n",
        "vol = 1/3 * 3.14 * rad ** 2 * hei\n",
        "\n",
        "#겉넓이 계산\n",
        "suf = 3.14 * rad ** 2 + 3.14 * rad * hei\n",
        "\n",
        "#부피 출력\n",
        "print(\"부피의 값은\", vol, \"입니다.\", sep=\"_\")\n",
        "\n",
        "#겉넓이 출력\n",
        "print(\"겉넓이의 값은\", suf, \"입니다.\", sep=\"_\")\n",
        "\n",
        "# 함수 중첩 사용 가능\n",
        "# print는 여러 개의 전달인자를 전달할 수 있다.\n",
        "# sep 옵션으로 공백을 조절할 수 있다."
      ]
    },
    {
      "attachments": {},
      "cell_type": "markdown",
      "metadata": {},
      "source": [
        "## 프로그래밍 에러\n",
        "\n",
        "설계 미숙, 결험 또는 문법 오류로 프로그램이 의도한 대로 결과를 생성하지 못하는 문제\n",
        "- 구문 오류: 문법 체계에 적합하지 않는 명령문 입력 시 발생\n",
        "- 실행 오류: 논리적으로 실행 불가능한 명령문 작성 시 발생\n",
        "  - 0으로 나누는 경우\n",
        "- 의미 오류: 의미적으로 잘못 해설되는 명령문 작성 시 발생\n",
        "  - 의도한 결과값과 다른 경우 (사용한 알고리이이 다른 경우)\n",
        "  - 테스트를 자주 해서 방지해야 함"
      ]
    }
  ],
  "metadata": {
    "colab": {
      "authorship_tag": "ABX9TyNjT8FCClD3uqlYoMFuRjKT",
      "include_colab_link": true,
      "provenance": []
    },
    "kernelspec": {
      "display_name": "Python 3",
      "language": "python",
      "name": "python3"
    },
    "language_info": {
      "codemirror_mode": {
        "name": "ipython",
        "version": 3
      },
      "file_extension": ".py",
      "mimetype": "text/x-python",
      "name": "python",
      "nbconvert_exporter": "python",
      "pygments_lexer": "ipython3",
      "version": "3.11.5"
    },
    "vscode": {
      "interpreter": {
        "hash": "b0fa6594d8f4cbf19f97940f81e996739fb7646882a419484c72d19e05852a7e"
      }
    }
  },
  "nbformat": 4,
  "nbformat_minor": 0
}
