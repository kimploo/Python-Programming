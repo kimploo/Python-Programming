{
  "cells": [
    {
      "cell_type": "markdown",
      "metadata": {
        "colab_type": "text",
        "id": "view-in-github"
      },
      "source": [
        "<a href=\"https://colab.research.google.com/github/jaehwachung/Python-Programming/blob/main/6%EA%B0%95_%EC%8B%A4%EC%8A%B5(%EC%9B%90%EB%B3%B8).ipynb\" target=\"_parent\"><img src=\"https://colab.research.google.com/assets/colab-badge.svg\" alt=\"Open In Colab\"/></a>"
      ]
    },
    {
      "attachments": {},
      "cell_type": "markdown",
      "metadata": {
        "id": "hckgpz65oDBv"
      },
      "source": [
        "# 6장 1절 - 선택 구조"
      ]
    },
    {
      "attachments": {},
      "cell_type": "markdown",
      "metadata": {},
      "source": [
        "## 선택 구조의 개념\n",
        "- 특정 영역 내의 명령문에 대한 실행 여부를 판단에 따라 결정하는 구조\n",
        "  - 실행 여부는 조건에 따라 결정\n",
        "  "
      ]
    },
    {
      "attachments": {},
      "cell_type": "markdown",
      "metadata": {},
      "source": [
        "## 선택 구조의 구문 형식\n",
        "- 들여쓰기로 코드 블록을 표현\n",
        "- 들여쓰기: 스페이스 4칸 권고 (PEP-8)\n",
        "- 코드 블록: 특정 동작을 수행하는 한 라인 이상의 명령문 집합"
      ]
    },
    {
      "cell_type": "code",
      "execution_count": null,
      "metadata": {},
      "outputs": [],
      "source": [
        "if 불리언식:\n",
        "  명령문1\n",
        "  명령문2"
      ]
    },
    {
      "attachments": {},
      "cell_type": "markdown",
      "metadata": {},
      "source": [
        "## 불리언식\n",
        "비교연산자를 사용한 불리언 타입 표현식"
      ]
    },
    {
      "cell_type": "code",
      "execution_count": 1,
      "metadata": {},
      "outputs": [
        {
          "data": {
            "text/plain": [
              "False"
            ]
          },
          "execution_count": 1,
          "metadata": {},
          "output_type": "execute_result"
        }
      ],
      "source": [
        "# 비교연산자 예시\n",
        "1 < 2\n",
        "1 > 2\n",
        "1 <= 2\n",
        "1 <= 2\n",
        "1 == 1\n",
        "1 != 1"
      ]
    },
    {
      "attachments": {},
      "cell_type": "markdown",
      "metadata": {},
      "source": [
        "## 불리언 타입\n",
        "논리값이 참과 거짓인 값만 표현할 수 있는 데이터 타입\n",
        "- `true` 또는 `false` 예약어를 사용하여 표현\n",
        "- 비교 연산자를 사용한 표현식의 평가 결과가 될 수 있다."
      ]
    },
    {
      "cell_type": "code",
      "execution_count": null,
      "metadata": {},
      "outputs": [],
      "source": [
        "# 불리언 타입 값도 변수에 할당할 수 있다.\n",
        "suf = 100\n",
        "vol = 100\n",
        "is3BiggerThan6 = 3 > 6\n",
        "isStop = suf == vol"
      ]
    },
    {
      "cell_type": "code",
      "execution_count": null,
      "metadata": {
        "id": "ZW1w8qQHoAm3"
      },
      "outputs": [],
      "source": [
        "# 반지름 사용자 입력\n",
        "rad = int(input(\"반지름을 입력하세요:\"))\n",
        "# 높이 사용자 입력\n",
        "hei = int(input(\"높이를 입력하세요:\"))\n",
        "# 부피&겉넓이 계산\n",
        "# 파이썬의 if문은 콜론을 사용\n",
        "# if는 조건에 맞을 때만 실행한다.\n",
        "if rad > 0 :\n",
        "    vol = 1/3 * 3.14 * rad ** 2 * hei\n",
        "    suf = 3.14 * rad ** 2 + 3.14 * rad * hei\n",
        "    print(\"원뿔의 부피는\" ,vol, \"입니다.\")\n",
        "    print(\"원뿔의 겉넓이는\" ,suf, \"입니다\")"
      ]
    },
    {
      "cell_type": "markdown",
      "metadata": {
        "id": "gIxdfGagpB53"
      },
      "source": []
    },
    {
      "cell_type": "markdown",
      "metadata": {
        "id": "cquz2vj9oGml"
      },
      "source": [
        "# 6강 2절"
      ]
    },
    {
      "attachments": {},
      "cell_type": "markdown",
      "metadata": {},
      "source": [
        "# 논리연산자의 개념\n",
        "참, 거짓을 구별할 수 있는 명제를 대상으로 명제의 집합을 위해 고안한 연산자\n",
        "두 개의 논리값(불리언식)을 연산하여 참 또는 거짓을 결과를 얻는 연산자\n",
        "- 두 개의 피연산자를 갖는 이항 연산자\n",
        "- and(논리곱), or(논리합), not(논리부정) 연산자 사용 \n",
        "- 연쪽에서 오른쪽의 방향으로 결합"
      ]
    },
    {
      "attachments": {},
      "cell_type": "markdown",
      "metadata": {},
      "source": [
        "## `and`\n",
        "두 논리값이 모두 `True`일 때, `True`이고, 어느 하나 `False`일 경우 `False`를 반환\n",
        "\n",
        "## `or`\n",
        "두 논리값이 모두 `False`일 때, `False`이고, 어느 하나가 `True`일 경우 `True`를 반환\n",
        "\n",
        "## `not`\n",
        "단항 연산자로, 논리값을 반전하여 `False` 는 `True`로, `True`는 `False`로 반"
      ]
    },
    {
      "cell_type": "code",
      "execution_count": 3,
      "metadata": {},
      "outputs": [
        {
          "name": "stdout",
          "output_type": "stream",
          "text": [
            "False\n",
            "True\n",
            "False\n"
          ]
        }
      ],
      "source": [
        "temp = 27\n",
        "fruit = \"banana\"\n",
        "\n",
        "print(temp >= 27 and fruit == \"apple\") # False\n",
        "print(temp >= 27 or fruit == \"apple\") # True\n",
        "print(not temp >= 27) # False"
      ]
    },
    {
      "attachments": {},
      "cell_type": "markdown",
      "metadata": {},
      "source": [
        "## 단락평가 (short-circuit evaluation)\n",
        "첫 번째 논리값 만으로 전체 연산 결과가 판변 가능할 떄 두 번째 논리값은 평가하지 않는 기법"
      ]
    },
    {
      "cell_type": "code",
      "execution_count": 4,
      "metadata": {},
      "outputs": [
        {
          "data": {
            "text/plain": [
              "False"
            ]
          },
          "execution_count": 4,
          "metadata": {},
          "output_type": "execute_result"
        }
      ],
      "source": [
        "temp = 20\n",
        "season = \"summer\"\n",
        "\n",
        "# season == \"summer\"가 맞는지 끝까지 평가하지 않음\n",
        "temp >= 27 and season == \"summer\""
      ]
    },
    {
      "cell_type": "markdown",
      "metadata": {},
      "source": []
    },
    {
      "attachments": {},
      "cell_type": "markdown",
      "metadata": {},
      "source": [
        "# 선택 구조의 확장"
      ]
    },
    {
      "attachments": {},
      "cell_type": "markdown",
      "metadata": {},
      "source": [
        "## 이분 선택 구조의 구문형식"
      ]
    },
    {
      "cell_type": "code",
      "execution_count": 6,
      "metadata": {},
      "outputs": [
        {
          "ename": "NameError",
          "evalue": "name '불리언식' is not defined",
          "output_type": "error",
          "traceback": [
            "\u001b[0;31m---------------------------------------------------------------------------\u001b[0m",
            "\u001b[0;31mNameError\u001b[0m                                 Traceback (most recent call last)",
            "Cell \u001b[0;32mIn[6], line 1\u001b[0m\n\u001b[0;32m----> 1\u001b[0m \u001b[39mif\u001b[39;00m 불리언식 :\n\u001b[1;32m      2\u001b[0m     명령문1\n\u001b[1;32m      3\u001b[0m \u001b[39melse\u001b[39;00m :\n",
            "\u001b[0;31mNameError\u001b[0m: name '불리언식' is not defined"
          ]
        }
      ],
      "source": [
        "if 불리언식 :\n",
        "    명령문1\n",
        "else :\n",
        "    명령문2"
      ]
    },
    {
      "cell_type": "code",
      "execution_count": null,
      "metadata": {},
      "outputs": [
        {
          "name": "stdout",
          "output_type": "stream",
          "text": [
            "원뿔의 부피는 8373.333333333332 입니다.\n",
            "원뿔의 겉넓이는 2512.0 입니다\n"
          ]
        }
      ],
      "source": [
        "# 반지름 사용자 입력\n",
        "rad = int(input(\"반지름을 입력하세요:\"))\n",
        "# 높이 사용자 입력\n",
        "hei = int(input(\"높이를 입력하세요:\"))\n",
        "# 부피&겉넓이 계산\n",
        "# 파이썬의 if문은 콜론을 사용\n",
        "# if는 조건에 맞을 때만 실행한다.\n",
        "if rad > 0 and hei > 0 :\n",
        "  vol = 1/3 * 3.14 * rad ** 2 * hei\n",
        "  suf = 3.14 * rad ** 2 + 3.14 * rad * hei\n",
        "  print(\"원뿔의 부피는\" ,vol, \"입니다.\")\n",
        "  print(\"원뿔의 겉넓이는\" ,suf, \"입니다.\")\n",
        "else :\n",
        "  print(\"반지름과 높이의 값을 모두 양수를 입력하세요.\")"
      ]
    },
    {
      "attachments": {},
      "cell_type": "markdown",
      "metadata": {},
      "source": [
        "## 다분 선택 구조의 구문형식"
      ]
    },
    {
      "cell_type": "code",
      "execution_count": null,
      "metadata": {},
      "outputs": [],
      "source": [
        "if 불리언식1 :\n",
        "    명령문1\n",
        "elif 불리언식2:\n",
        "    명령문2\n",
        "# ..\n",
        "else :\n",
        "    명령문3"
      ]
    },
    {
      "cell_type": "markdown",
      "metadata": {
        "id": "_2ZlVieZpKuT"
      },
      "source": [
        "가장 큰 수 찾는 프로그램"
      ]
    },
    {
      "cell_type": "code",
      "execution_count": 8,
      "metadata": {
        "id": "SuPkvKRSoJBE"
      },
      "outputs": [
        {
          "name": "stdout",
          "output_type": "stream",
          "text": [
            "3\n"
          ]
        }
      ],
      "source": [
        "# A, B, C 사용자 입력\n",
        "A = int(input(\"A 입력: \"))\n",
        "B = int(input(\"B 입력: \"))\n",
        "C = int(input(\"C 입력: \"))\n",
        "\n",
        "# A, B, C 중 가장 큰 수 출력\n",
        "if A > B:\n",
        "  if A > C:\n",
        "    print(A)\n",
        "  else:\n",
        "    print(C)\n",
        "else:\n",
        "  if B > C:\n",
        "    print(B)\n",
        "  else:\n",
        "    print(C)"
      ]
    }
  ],
  "metadata": {
    "colab": {
      "authorship_tag": "ABX9TyPSMrkx1D4lV1G94HA1244X",
      "include_colab_link": true,
      "provenance": []
    },
    "kernelspec": {
      "display_name": "Python 3",
      "language": "python",
      "name": "python3"
    },
    "language_info": {
      "codemirror_mode": {
        "name": "ipython",
        "version": 3
      },
      "file_extension": ".py",
      "mimetype": "text/x-python",
      "name": "python",
      "nbconvert_exporter": "python",
      "pygments_lexer": "ipython3",
      "version": "3.11.2"
    },
    "vscode": {
      "interpreter": {
        "hash": "b0fa6594d8f4cbf19f97940f81e996739fb7646882a419484c72d19e05852a7e"
      }
    }
  },
  "nbformat": 4,
  "nbformat_minor": 0
}
