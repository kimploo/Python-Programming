{
  "nbformat": 4,
  "nbformat_minor": 0,
  "metadata": {
    "colab": {
      "provenance": [],
      "authorship_tag": "ABX9TyMoejaDsTLYlxAKeguzl1BO",
      "include_colab_link": true
    },
    "kernelspec": {
      "name": "python3",
      "display_name": "Python 3"
    },
    "language_info": {
      "name": "python"
    }
  },
  "cells": [
    {
      "cell_type": "markdown",
      "metadata": {
        "id": "view-in-github",
        "colab_type": "text"
      },
      "source": [
        "<a href=\"https://colab.research.google.com/github/jaehwachung/Python-Programming/blob/main/11%EA%B0%95_%EC%8B%A4%EC%8A%B5(%EC%9B%90%EB%B3%B8).ipynb\" target=\"_parent\"><img src=\"https://colab.research.google.com/assets/colab-badge.svg\" alt=\"Open In Colab\"/></a>"
      ]
    },
    {
      "cell_type": "markdown",
      "source": [
        "# 11강 실습"
      ],
      "metadata": {
        "id": "EtjZiTaxLjdH"
      }
    },
    {
      "cell_type": "markdown",
      "source": [
        "**11강 1절 모듈의 이해**"
      ],
      "metadata": {
        "id": "dM5Jl78KLnIG"
      }
    },
    {
      "cell_type": "markdown",
      "source": [
        "dir, help 함수 테스트"
      ],
      "metadata": {
        "id": "jLudepg7Lv6Y"
      }
    },
    {
      "cell_type": "code",
      "execution_count": null,
      "metadata": {
        "id": "QjtNEdkcynR7"
      },
      "outputs": [],
      "source": []
    },
    {
      "cell_type": "markdown",
      "source": [
        "math 모듈을 사용한 원뿔 계산 프로그램"
      ],
      "metadata": {
        "id": "BZcxx1KcM2eF"
      }
    },
    {
      "cell_type": "code",
      "source": [
        "# 원뿔 클래스 정의\n",
        "class Cone :\n",
        "    def __init__(self, radius = 20, height = 30):\n",
        "        self.r = radius\n",
        "        self.h = height\n",
        "    \n",
        "    def get_vol(self) :\n",
        "        return 1/3 * 3.14 * self.r ** 2 * self.h\n",
        "\n",
        "    def get_surf(self) :\n",
        "        return 3.14 * self.r ** 2 + 3.14 * self.r * self.h\n"
      ],
      "metadata": {
        "id": "ZJwXQoQIM7uw"
      },
      "execution_count": null,
      "outputs": []
    },
    {
      "cell_type": "markdown",
      "source": [
        "**11강 2절 유용한 모듈**"
      ],
      "metadata": {
        "id": "MwGVxn3sLy8T"
      }
    },
    {
      "cell_type": "markdown",
      "source": [
        "두 변의 길이 a, b와 끼인각 α인 삼각형의 넓이를 구하는 프로그램을 작성하시오.\n"
      ],
      "metadata": {
        "id": "A2gzGR3nM8nI"
      }
    },
    {
      "cell_type": "code",
      "source": [],
      "metadata": {
        "id": "CK6KXvIv3IZV"
      },
      "execution_count": null,
      "outputs": []
    },
    {
      "cell_type": "markdown",
      "source": [
        "1 ~ 45 숫자 6개를 입력 받아 당첨 숫자와 \u000b비교하는 프로그램을 작성하시오.\n"
      ],
      "metadata": {
        "id": "UP6aKi22RoxB"
      }
    },
    {
      "cell_type": "code",
      "source": [],
      "metadata": {
        "id": "Btr-jR2m3KZA"
      },
      "execution_count": null,
      "outputs": []
    },
    {
      "cell_type": "markdown",
      "source": [
        "20번의 기회 안에 1 ~ 100 사이의 숫자를 \u000b맞히는 스무고개 프로그램을 작성하시오.\n"
      ],
      "metadata": {
        "id": "dZ3mQM7hR7z5"
      }
    },
    {
      "cell_type": "code",
      "source": [],
      "metadata": {
        "id": "XhmZvkWVSA9Z"
      },
      "execution_count": null,
      "outputs": []
    },
    {
      "cell_type": "markdown",
      "source": [
        "1000보다 작은 소수 찾기 프로그램"
      ],
      "metadata": {
        "id": "EdHUe1hr3bho"
      }
    },
    {
      "cell_type": "code",
      "source": [],
      "metadata": {
        "id": "b0odUfVq3bNF"
      },
      "execution_count": null,
      "outputs": []
    }
  ]
}