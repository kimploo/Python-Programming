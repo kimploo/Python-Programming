{
  "cells": [
    {
      "cell_type": "markdown",
      "metadata": {
        "id": "8qm2njbqj44L"
      },
      "source": [
        "# 4강 1절"
      ]
    },
    {
      "attachments": {},
      "cell_type": "markdown",
      "metadata": {},
      "source": [
        "<a href=\"https://colab.research.google.com/github/kimploo/Python-Programming/blob/main/4%EA%B0%95_%EC%8B%A4%EC%8A%B5(%EC%9B%90%EB%B3%B8).ipynb\" target=\"_parent\"><img src=\"https://colab.research.google.com/assets/colab-badge.svg\" alt=\"Open In Colab\"/></a>"
      ]
    },
    {
      "cell_type": "code",
      "execution_count": 2,
      "metadata": {
        "colab": {
          "base_uri": "https://localhost:8080/"
        },
        "id": "GavoygacCLBE",
        "outputId": "43b022ea-545b-41f7-9f1d-f861ebd69ad2"
      },
      "outputs": [
        {
          "data": {
            "text/plain": [
              "3.141592"
            ]
          },
          "execution_count": 2,
          "metadata": {},
          "output_type": "execute_result"
        }
      ],
      "source": [
        "\n",
        "3 # int 정수\n",
        "3.141592 # float 실수\n",
        "# 에코 기능을 활용하여 입력한 코드의 값을 그대로 돌려준다."
      ]
    },
    {
      "cell_type": "code",
      "execution_count": 1,
      "metadata": {
        "colab": {
          "base_uri": "https://localhost:8080/",
          "height": 35
        },
        "id": "IGgvTbm5CRbw",
        "outputId": "fa37c0d6-6e12-402a-ce26-d6dd4da2c10b"
      },
      "outputs": [
        {
          "data": {
            "text/plain": [
              "'Computer'"
            ]
          },
          "execution_count": 1,
          "metadata": {},
          "output_type": "execute_result"
        }
      ],
      "source": [
        "\"Computer\" # 문자열 표현은 따옴표 혹은 쌍따옴표, 유니코드 기반 문자 또는 문자열"
      ]
    },
    {
      "cell_type": "code",
      "execution_count": 4,
      "metadata": {
        "colab": {
          "base_uri": "https://localhost:8080/",
          "height": 131
        },
        "id": "Rupa9hQnfVSx",
        "outputId": "64aca0a0-2dc4-4b36-be5a-154d5226e672"
      },
      "outputs": [
        {
          "ename": "SyntaxError",
          "evalue": "invalid character '“' (U+201C) (35781776.py, line 1)",
          "output_type": "error",
          "traceback": [
            "\u001b[0;36m  Cell \u001b[0;32mIn[4], line 1\u001b[0;36m\u001b[0m\n\u001b[0;31m    “Hello World!” # 오피스 입력기에 작성한 쌍따옴표는 코드 블록과 다를 수 있다.\u001b[0m\n\u001b[0m    ^\u001b[0m\n\u001b[0;31mSyntaxError\u001b[0m\u001b[0;31m:\u001b[0m invalid character '“' (U+201C)\n"
          ]
        }
      ],
      "source": [
        "“Hello World!” # 오피스 입력기에 작성한 쌍따옴표는 코드 블록과 다를 수 있다."
      ]
    },
    {
      "cell_type": "code",
      "execution_count": 2,
      "metadata": {
        "colab": {
          "base_uri": "https://localhost:8080/"
        },
        "id": "JPXWhfZjDSQ8",
        "outputId": "f40b568c-038d-4acc-fbf0-f7133ae621be"
      },
      "outputs": [
        {
          "data": {
            "text/plain": [
              "1"
            ]
          },
          "execution_count": 2,
          "metadata": {},
          "output_type": "execute_result"
        }
      ],
      "source": [
        "2 * 7\n",
        "(7 + 15) * 2\n",
        "2 ** 10 * 5\n",
        "3.14 // 3 # 1\n",
        "4 % 3 # 1"
      ]
    },
    {
      "cell_type": "code",
      "execution_count": null,
      "metadata": {
        "colab": {
          "base_uri": "https://localhost:8080/",
          "height": 35
        },
        "id": "LGTVFIpRDiv8",
        "outputId": "087cc60c-eb0f-4e77-e093-0e7f1efb8323"
      },
      "outputs": [
        {
          "data": {
            "application/vnd.google.colaboratory.intrinsic+json": {
              "type": "string"
            },
            "text/plain": [
              "'computerscience'"
            ]
          },
          "execution_count": 5,
          "metadata": {},
          "output_type": "execute_result"
        }
      ],
      "source": [
        "\"computer\" + \"science\" # concatenation 문자열 이어붙이기"
      ]
    },
    {
      "cell_type": "code",
      "execution_count": null,
      "metadata": {
        "colab": {
          "base_uri": "https://localhost:8080/",
          "height": 35
        },
        "id": "xjtC5aIWDtci",
        "outputId": "933abfbd-a68f-46b9-a26c-50e0d70ff4ff"
      },
      "outputs": [
        {
          "data": {
            "application/vnd.google.colaboratory.intrinsic+json": {
              "type": "string"
            },
            "text/plain": [
              "'computercomputer'"
            ]
          },
          "execution_count": 6,
          "metadata": {},
          "output_type": "execute_result"
        }
      ],
      "source": [
        "\"computer\" * 2 # 문자열 두 번 반복하여 붙이기 ㄷㄷ..;"
      ]
    },
    {
      "cell_type": "code",
      "execution_count": null,
      "metadata": {
        "colab": {
          "base_uri": "https://localhost:8080/",
          "height": 131
        },
        "id": "skE02nxlD2Ad",
        "outputId": "7b810bc3-1ff2-48f3-b7cd-7d3478d9c8e3"
      },
      "outputs": [
        {
          "ename": "IndentationError",
          "evalue": "ignored",
          "output_type": "error",
          "traceback": [
            "\u001b[0;36m  File \u001b[0;32m\"<ipython-input-11-dbb9808731e4>\"\u001b[0;36m, line \u001b[0;32m2\u001b[0m\n\u001b[0;31m    print(\"Python is fun!\") # 두 줄을 입력하기 위해서는 print를 사용할 것\u001b[0m\n\u001b[0m    ^\u001b[0m\n\u001b[0;31mIndentationError\u001b[0m\u001b[0;31m:\u001b[0m unexpected indent\n"
          ]
        }
      ],
      "source": [
        "print(\"Hello World!\") # 함수 or 메서드\n",
        "print(\"Python is fun!\") # 두 줄을 입력하기 위해서는 print를 사용할 것\n",
        "     print('unexpected indent') # python 에서 indention은 중요하다. PEP8에서는 띄어쓰기 4칸"
      ]
    },
    {
      "cell_type": "code",
      "execution_count": null,
      "metadata": {
        "colab": {
          "base_uri": "https://localhost:8080/"
        },
        "id": "kAtwYjccEbgJ",
        "outputId": "ff04a247-66c3-41c9-ddbb-3c7a824a92c3"
      },
      "outputs": [
        {
          "name": "stdout",
          "output_type": "stream",
          "text": [
            "10.5\n"
          ]
        }
      ],
      "source": [
        "# 학점 계산 (이 부분은 파이썬 인터프리터가 읽지 않음)\n",
        "print((4.5 * 2 + 4.0 * 3) / 2)"
      ]
    },
    {
      "cell_type": "markdown",
      "metadata": {
        "id": "XA4yR0RDjgNl"
      },
      "source": [
        "# 4강 2절"
      ]
    },
    {
      "cell_type": "markdown",
      "metadata": {},
      "source": [
        "# 원뿔 부피와 겉넓이 구하기\n",
        "\n",
        "- 원주율: 원의 지름과 원의 둘레의 길이의 비율 \n",
        "- 원의 둘레: 파이 * r * 2\n",
        "- 원의 넓이: 파이 * r ^ 2"
      ]
    },
    {
      "cell_type": "code",
      "execution_count": null,
      "metadata": {
        "id": "q-Be2CI1EapB"
      },
      "outputs": [],
      "source": [
        "#반지름 20, 높이 30\n",
        "#부피 출력\n",
        "print(1 / 3 * 3.14 * 20 ** 2 * 30 )\n",
        "#겉넓이 출력\n",
        "print(3.14 * 20 ** 2 + 3.14 * 20 * 30)"
      ]
    },
    {
      "cell_type": "markdown",
      "metadata": {
        "id": "10Ak1UmiE4Pt"
      },
      "source": [
        "### 변수(variable)\n",
        "평가된 값을 할당할 수 있는 공간"
      ]
    },
    {
      "cell_type": "code",
      "execution_count": null,
      "metadata": {
        "id": "jcZ9QF_VFUn1"
      },
      "outputs": [],
      "source": [
        "# lvalue (지속되는 대상), ravlue (임시적인 대상)\n",
        "rad = 20"
      ]
    },
    {
      "cell_type": "markdown",
      "metadata": {
        "id": "CErxwcdOFich"
      },
      "source": [
        "### 값의 할당\n",
        "\n",
        "메모리 공간을 확보해서 평가된 값을 할당한다.\n"
      ]
    },
    {
      "cell_type": "markdown",
      "metadata": {
        "id": "-m9eKgmYGCC1"
      },
      "source": [
        "### 식별자\n",
        "프로그램 내부에 정의된 객체(변수, 함수 등)의 이름\n",
        "- 문자, 숫자, 밑줄로 구성 \n",
        "- 문자 또는 밑줄로만 시작 가능\n",
        "- 예약어와 동일할 수 없음\n",
        "- 길이 제한이 없음"
      ]
    },
    {
      "cell_type": "code",
      "execution_count": 7,
      "metadata": {
        "id": "Y5ID0gSMF_p-"
      },
      "outputs": [],
      "source": [
        "# 아래 글자는 변수가 될 수 있다.\n",
        "volume = 10\n",
        "Surface = \"surface\"\n",
        "-50\n",
        "x = 20\n",
        "У = 30\n",
        "_name = \"hongshik\""
      ]
    },
    {
      "cell_type": "code",
      "execution_count": null,
      "metadata": {
        "id": "2VQMHjsFF-xu"
      },
      "outputs": [],
      "source": [
        "# 아래 글자는 변수가 될 수 없다.\n",
        "§D$ # 특수문자로 시작\n",
        "1-a # 숫자로 시작\n",
        "2023y\n",
        "else # 예약어\n",
        "class\n",
        "rth\n",
        "77#R 숫자만 있고, #로 주석을 만들어버림"
      ]
    },
    {
      "cell_type": "code",
      "execution_count": 6,
      "metadata": {
        "colab": {
          "base_uri": "https://localhost:8080/"
        },
        "id": "Q52O9iuCHEpp",
        "outputId": "aa628450-4e8f-4daf-8fd0-26e94367fa80"
      },
      "outputs": [
        {
          "name": "stdout",
          "output_type": "stream",
          "text": [
            "12560.0\n",
            "3140.0\n"
          ]
        }
      ],
      "source": [
        "#반지름, 높이 값 할당 (lvalue -> 할당)\n",
        "rad = 20\n",
        "hei = 30\n",
        "\n",
        "#부피 출력 (rvalue -> 조회)\n",
        "print(1 / 3 * 3.14 * rad * rad * hei)\n",
        "\n",
        "#겉넓이 출력 (rvalue -> 조회)\n",
        "print (3.14 * rad ** 2 + 3.14 * rad * hei)"
      ]
    },
    {
      "cell_type": "code",
      "execution_count": null,
      "metadata": {
        "id": "buMmaXCXjk6D"
      },
      "outputs": [],
      "source": [
        "print(1 / 3 * 3.14 * 20 ** 2 * 30 )\n",
        "print(3.14 * 20 ** 2 + 3.14 * 20 * 30)"
      ]
    },
    {
      "cell_type": "markdown",
      "metadata": {
        "id": "kWoDWbwQHlZJ"
      },
      "source": [
        "# Section 3 - 산술 연산자\n",
        "\n",
        "## 산술 연산자\n",
        "\n",
        "피연산자(operand)에 대해 지정한 산술 연산을 지시하는 기호\n",
        "- 단항 연산자(unary operator)\n",
        "- 이항 연산자(binary operator)\n",
        "- 특수 산술연산자\n",
        "  - 정수 나눗셈 연산자(`//`)\n",
        "  - 나머지 연산자(`%`)\n",
        "\n",
        "## 연산자 우선순위\n",
        "- 표현식에 사용한 여러 연산자의 연산 순서를 결정\n",
        "  - 괄후 내부의 수식\n",
        "  - 지수 연산자\n",
        "  - 곱셈, 실수 나눗셈, 정수 나눗셈, 나머지 연산자\n",
        "    - 왼쪽에서 오른쪽으로\n",
        "  - 덧셈, 뺄셈 연산자\n",
        "    - 왼쪽에서 오른쪽으로\n",
        "  - 할당 연산자\n",
        "\n"
      ]
    },
    {
      "cell_type": "code",
      "execution_count": 5,
      "metadata": {
        "id": "yjNxQkjlJqV9"
      },
      "outputs": [
        {
          "data": {
            "text/plain": [
              "0.75"
            ]
          },
          "execution_count": 5,
          "metadata": {},
          "output_type": "execute_result"
        }
      ],
      "source": [
        "1.5 / 2"
      ]
    },
    {
      "cell_type": "code",
      "execution_count": null,
      "metadata": {
        "id": "TTKxLL3UJsji"
      },
      "outputs": [],
      "source": [
        "1.5 // 2"
      ]
    },
    {
      "cell_type": "code",
      "execution_count": null,
      "metadata": {
        "colab": {
          "base_uri": "https://localhost:8080/"
        },
        "id": "4WICFOT5Jt20",
        "outputId": "51aeb278-88a1-4dd4-98da-f6f4cdc4fdfd"
      },
      "outputs": [
        {
          "data": {
            "text/plain": [
              "4"
            ]
          },
          "execution_count": 20,
          "metadata": {},
          "output_type": "execute_result"
        }
      ],
      "source": [
        "25 % 7"
      ]
    },
    {
      "cell_type": "code",
      "execution_count": null,
      "metadata": {
        "colab": {
          "base_uri": "https://localhost:8080/"
        },
        "id": "EVCLxu1FJ1vq",
        "outputId": "2ad31f37-0fcc-49ee-c264-c97bc6ad9cbb"
      },
      "outputs": [
        {
          "data": {
            "text/plain": [
              "0.1000000000000002"
            ]
          },
          "execution_count": 21,
          "metadata": {},
          "output_type": "execute_result"
        }
      ],
      "source": [
        "6.4 % 0.9"
      ]
    },
    {
      "cell_type": "code",
      "execution_count": null,
      "metadata": {
        "colab": {
          "base_uri": "https://localhost:8080/"
        },
        "id": "yzbvf7tBJ4ZO",
        "outputId": "371efeff-a576-4efa-fb0f-57443e26428c"
      },
      "outputs": [
        {
          "data": {
            "text/plain": [
              "0"
            ]
          },
          "execution_count": 22,
          "metadata": {},
          "output_type": "execute_result"
        }
      ],
      "source": [
        "# 2로 나눈 number의 나머지가 0이면 짝수, 1이면 홀수\n",
        "number = 10\n",
        "number % 2"
      ]
    },
    {
      "cell_type": "markdown",
      "metadata": {
        "id": "Rk0IfI6JIDQt"
      },
      "source": [
        "## 파이썬 내장함수\n",
        "파이썬 인터프리터에서 기본적으로 지원하는 함수, 별도의 모듈이나 패키지 없이 사용 가능 (`max`, `min`, `round`, `abs`, `pow`)"
      ]
    },
    {
      "cell_type": "code",
      "execution_count": null,
      "metadata": {
        "colab": {
          "base_uri": "https://localhost:8080/"
        },
        "id": "QocQfQc0KDOo",
        "outputId": "2dd39cdd-0c79-45f5-b4f8-2908eccc3aa3"
      },
      "outputs": [
        {
          "data": {
            "text/plain": [
              "8"
            ]
          },
          "execution_count": 23,
          "metadata": {},
          "output_type": "execute_result"
        }
      ],
      "source": [
        "# max\n",
        "max(2, 3, 4)\n",
        "# min\n",
        "min(2, 3, 4)\n",
        "# round\n",
        "round(3.14)\n",
        "# abs\n",
        "abs(-3)\n",
        "# pow\n",
        "pow(2, 3)\n"
      ]
    },
    {
      "cell_type": "markdown",
      "metadata": {
        "id": "3AIQZCh-Ko-E"
      },
      "source": [
        "# 연습문제\n",
        "\n"
      ]
    },
    {
      "cell_type": "code",
      "execution_count": null,
      "metadata": {
        "colab": {
          "base_uri": "https://localhost:8080/"
        },
        "id": "ustz2YgYKnzL",
        "outputId": "1bae2a6d-dc6b-4b9f-d628-8f4c29659e27"
      },
      "outputs": [
        {
          "name": "stdout",
          "output_type": "stream",
          "text": [
            "0\n"
          ]
        }
      ],
      "source": [
        "apple = 2\n",
        "banana = 3\n",
        "cranberry = 1\n",
        "# 1. banana ** 2 -> 3 * 3 -> 9\n",
        "# 2. 4 * apple * cranberry -> 8\n",
        "# 3. 1 // apple -> 1 // 2 -> 0.5인데 정수 부분만 남겨서 0\n",
        "detox = (banana ** 2 - 4 * apple * cranberry) // apple\n",
        "print(detox)"
      ]
    }
  ],
  "metadata": {
    "colab": {
      "provenance": [],
      "toc_visible": true
    },
    "kernelspec": {
      "display_name": "Python 3",
      "language": "python",
      "name": "python3"
    },
    "language_info": {
      "codemirror_mode": {
        "name": "ipython",
        "version": 3
      },
      "file_extension": ".py",
      "mimetype": "text/x-python",
      "name": "python",
      "nbconvert_exporter": "python",
      "pygments_lexer": "ipython3",
      "version": "3.11.5"
    },
    "vscode": {
      "interpreter": {
        "hash": "b0fa6594d8f4cbf19f97940f81e996739fb7646882a419484c72d19e05852a7e"
      }
    }
  },
  "nbformat": 4,
  "nbformat_minor": 0
}
